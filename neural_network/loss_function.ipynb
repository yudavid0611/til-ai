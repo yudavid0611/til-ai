{
 "cells": [
  {
   "cell_type": "markdown",
   "metadata": {},
   "source": [
    "# Loss Function(손실 함수)\n",
    "> - 참고: 책 <<밑바닥부터 시작하는 딥러닝>>, pp.112-115 "
   ]
  },
  {
   "cell_type": "code",
   "execution_count": 7,
   "metadata": {},
   "outputs": [],
   "source": [
    "import numpy as np\n",
    "\n",
    "# 신경망 출력(소프트맥스 함수 출력)\n",
    "# 정답 레이블인 2의 확률이 가장 높음\n",
    "predict1 = np.array([0.1, 0.05, 0.6, 0.0, 0.05, 0.1, 0.0, 0.1, 0.0, 0.0])\n",
    "# 정답이 아닌 7의 확률이 가장 높음\n",
    "predict2 = np.array([0.1, 0.05, 0.1, 0.0, 0.05, 0.1, 0.0, 0.6, 0.0, 0.0])\n",
    "\n",
    "# 정답 레이블\n",
    "y = np.array([0, 0, 1, 0, 0, 0, 0, 0, 0, 0])"
   ]
  },
  {
   "cell_type": "markdown",
   "metadata": {},
   "source": [
    "## 오차제곱합(SSE, Sum of Squares for Error)"
   ]
  },
  {
   "cell_type": "code",
   "execution_count": 6,
   "metadata": {},
   "outputs": [],
   "source": [
    "def sse(predict, y):\n",
    "    return 0.5 * np.sum((y - predict) ** 2)"
   ]
  },
  {
   "cell_type": "code",
   "execution_count": 8,
   "metadata": {},
   "outputs": [
    {
     "name": "stdout",
     "output_type": "stream",
     "text": [
      "정답: 0.09750000000000003\n",
      "오답: 0.5975\n"
     ]
    }
   ],
   "source": [
    "print(f'정답: {sse(predict1, y)}')\n",
    "print(f'오답: {sse(predict2, y)}')"
   ]
  },
  {
   "cell_type": "markdown",
   "metadata": {},
   "source": [
    "## 교차 엔트로피 오차(CEE, Cross Entropy Error)\n",
    "- log는 밑이 e인 자연로그\n",
    "- 정답일 경우의 출력값의 자연로그를 계산한다. 즉 **정답일 때의 출력이 전체 값을 정한다.**\n",
    "- 정답에 해당하는 출력값이 커질수록 0에 가까워진다. 출력값이 1일 때 0이 된다.\n",
    "- 아주 작은 값인 `delta`를 출력값에 더해주어 np.log가 -inf가 되지 않도록 한다."
   ]
  },
  {
   "cell_type": "code",
   "execution_count": 9,
   "metadata": {},
   "outputs": [],
   "source": [
    "def cee(predict, y):\n",
    "    delta = 1e-7\n",
    "    return -np.sum(y * np.log(predict + delta))"
   ]
  },
  {
   "cell_type": "code",
   "execution_count": 10,
   "metadata": {},
   "outputs": [
    {
     "name": "stdout",
     "output_type": "stream",
     "text": [
      "정답: 0.510825457099338\n",
      "오답: 2.302584092994546\n"
     ]
    }
   ],
   "source": [
    "print(f'정답: {cee(predict1, y)}')\n",
    "print(f'오답: {cee(predict2, y)}')"
   ]
  }
 ],
 "metadata": {
  "kernelspec": {
   "display_name": "base",
   "language": "python",
   "name": "python3"
  },
  "language_info": {
   "codemirror_mode": {
    "name": "ipython",
    "version": 3
   },
   "file_extension": ".py",
   "mimetype": "text/x-python",
   "name": "python",
   "nbconvert_exporter": "python",
   "pygments_lexer": "ipython3",
   "version": "3.8.8"
  },
  "orig_nbformat": 4
 },
 "nbformat": 4,
 "nbformat_minor": 2
}
