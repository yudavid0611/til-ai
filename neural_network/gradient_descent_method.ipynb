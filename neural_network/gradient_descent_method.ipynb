{
 "cells": [
  {
   "cell_type": "markdown",
   "metadata": {},
   "source": [
    "# Gradient Descent Method(경사 하강법)\n",
    "> - 참고: 책 <<밑바닥부터 시작하는 딥러닝>>, pp.132-133 "
   ]
  },
  {
   "cell_type": "markdown",
   "metadata": {},
   "source": [
    "f(x0, x1) = xo ^ 2 + x1 ^ 2의 최솟값 구해보기"
   ]
  },
  {
   "cell_type": "code",
   "execution_count": 18,
   "metadata": {},
   "outputs": [],
   "source": [
    "import numpy as np\n",
    "import matplotlib.pyplot as plt"
   ]
  },
  {
   "cell_type": "code",
   "execution_count": 16,
   "metadata": {},
   "outputs": [],
   "source": [
    "# 타겟 함수\n",
    "def f(x):\n",
    "    return x[0] ** 2 + x[1] ** 2\n",
    "\n",
    "\n",
    "# 기울기: 모든 변수의 편미분을 벡터로 정리한 것\n",
    "def numerical_gradient(f, x:np.array, h=1e-4):\n",
    "    \n",
    "    # x와 형상이 같은 배열 생성\n",
    "    grad = np.zeros_like(x)\n",
    "\n",
    "    for idx in range(x.size):\n",
    "        temp_val = x[idx]\n",
    "\n",
    "        x[idx] = temp_val + h\n",
    "        fxh1 = f(x)\n",
    "\n",
    "        x[idx] = temp_val - h\n",
    "        fxh2 = f(x)\n",
    "\n",
    "        grad[idx] = (fxh1 - fxh2) / (2 * h)\n",
    "        \n",
    "        x[idx] = temp_val\n",
    "    \n",
    "    return grad\n",
    "\n",
    "\n",
    "# 경사 하강법\n",
    "def gradient(f, init_x, lr=0.1, step_num=100):\n",
    "    x = init_x\n",
    "\n",
    "    for _ in range(step_num):\n",
    "        x -= (lr * numerical_gradient(f, x))\n",
    "        \n",
    "    return x"
   ]
  },
  {
   "cell_type": "code",
   "execution_count": 17,
   "metadata": {},
   "outputs": [
    {
     "data": {
      "text/plain": [
       "array([-6.11110793e-10,  8.14814391e-10])"
      ]
     },
     "execution_count": 17,
     "metadata": {},
     "output_type": "execute_result"
    }
   ],
   "source": [
    "init_x = np.array([-3.0, 4.0])\n",
    "gradient(f, init_x)"
   ]
  },
  {
   "cell_type": "markdown",
   "metadata": {},
   "source": [
    "최솟값 탐색 그래프로 확인해보기"
   ]
  },
  {
   "cell_type": "code",
   "execution_count": 93,
   "metadata": {},
   "outputs": [],
   "source": [
    "# 경사 하강법(수정)\n",
    "def gradient(f, init_x, lr=0.1, step_num=100):\n",
    "    x = init_x\n",
    "\n",
    "    # 각 스텝별 x를 저장하는 array\n",
    "    history = np.empty((0, x.shape[0]))\n",
    "\n",
    "    for _ in range(step_num):\n",
    "        x -= (lr * numerical_gradient(f, x))\n",
    "        x_copy = np.expand_dims(x.copy(), axis=0)\n",
    "        history = np.append(history, x_copy, axis=0)\n",
    "    \n",
    "    return history"
   ]
  },
  {
   "cell_type": "code",
   "execution_count": 111,
   "metadata": {},
   "outputs": [],
   "source": [
    "init_x = np.array([-3.0, 4.0])\n",
    "history = gradient(f, init_x, lr=0.1)"
   ]
  },
  {
   "cell_type": "code",
   "execution_count": 112,
   "metadata": {},
   "outputs": [
    {
     "data": {
      "text/plain": [
       "<matplotlib.collections.PathCollection at 0x185ae587370>"
      ]
     },
     "execution_count": 112,
     "metadata": {},
     "output_type": "execute_result"
    },
    {
     "data": {
      "image/png": "[encoded data removed]",
      "text/plain": [
       "<Figure size 720x720 with 1 Axes>"
      ]
     },
     "metadata": {
      "needs_background": "light"
     },
     "output_type": "display_data"
    }
   ],
   "source": [
    "plt.figure(figsize=(10, 10))\n",
    "plt.xlabel('x0')\n",
    "plt.ylabel('x1')\n",
    "plt.xlim(-3, 3)\n",
    "plt.ylim(-4, 4)\n",
    "plt.scatter(history[:, 0], history[:, 1])"
   ]
  },
  {
   "cell_type": "code",
   "execution_count": null,
   "metadata": {},
   "outputs": [],
   "source": []
  }
 ],
 "metadata": {
  "kernelspec": {
   "display_name": "base",
   "language": "python",
   "name": "python3"
  },
  "language_info": {
   "codemirror_mode": {
    "name": "ipython",
    "version": 3
   },
   "file_extension": ".py",
   "mimetype": "text/x-python",
   "name": "python",
   "nbconvert_exporter": "python",
   "pygments_lexer": "ipython3",
   "version": "3.8.8"
  },
  "orig_nbformat": 4
 },
 "nbformat": 4,
 "nbformat_minor": 2
}
