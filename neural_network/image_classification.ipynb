{
 "cells": [
  {
   "cell_type": "markdown",
   "metadata": {},
   "source": [
    "# Image Classification\n",
    "> - 참고: 책 <<밑바닥부터 시작하는 딥러닝>>, pp.96-106 \n",
    "> - MNIST dataset: https://github.com/youbeebee/deeplearning_from_scratch/tree/master/dataset \n",
    "> - 가중치: https://github.com/youbeebee/deeplearning_from_scratch/blob/master/ch3.%EC%8B%A0%EA%B2%BD%EB%A7%9D/sample_weight.pkl"
   ]
  },
  {
   "cell_type": "code",
   "execution_count": 3,
   "metadata": {},
   "outputs": [],
   "source": [
    "import sys, os\n",
    "\n",
    "# # 부모 디렉토리의 파일을 가져올 수 있도록 설정\n",
    "# sys.path.append(os.pardir)\n",
    "from datasets.mnist import load_mnist"
   ]
  },
  {
   "cell_type": "markdown",
   "metadata": {},
   "source": [
    "## 1. 데이터셋 확인"
   ]
  },
  {
   "cell_type": "code",
   "execution_count": 6,
   "metadata": {},
   "outputs": [],
   "source": [
    "# normalize: 픽셀 값을 0.0~1.0사이 값으로 정규화할 것인가?\n",
    "# flatten: 입력 이미지를 1차원 배열로 만들 것인가?\n",
    "# one_hot_label: 레이블을 one-hot encoding 형태로 저장할 것인가?\n",
    "(x_train, y_train), (x_test, y_test) = load_mnist(flatten=True, normalize=False)"
   ]
  },
  {
   "cell_type": "code",
   "execution_count": 7,
   "metadata": {},
   "outputs": [
    {
     "name": "stdout",
     "output_type": "stream",
     "text": [
      "(60000, 784)\n",
      "(60000,)\n",
      "(10000, 784)\n",
      "(10000,)\n"
     ]
    }
   ],
   "source": [
    "print(x_train.shape)\n",
    "print(y_train.shape)\n",
    "print(x_test.shape)\n",
    "print(y_test.shape)"
   ]
  },
  {
   "cell_type": "markdown",
   "metadata": {},
   "source": [
    "## 2. 신경망 구현\n",
    "- 입력층 뉴런 784개(이미지 크기), 출력층 뉴런 10개(0~9까지의 숫자)\n",
    "- 은닉층은 두 개. 첫 번째 은닉층에는 50개의 뉴런, 두 번째 은닉층에는 100개의 뉴런"
   ]
  },
  {
   "cell_type": "code",
   "execution_count": 9,
   "metadata": {},
   "outputs": [],
   "source": [
    "from datasets.mnist import load_mnist\n",
    "import pickle\n",
    "import numpy as np"
   ]
  },
  {
   "cell_type": "code",
   "execution_count": 18,
   "metadata": {},
   "outputs": [],
   "source": [
    "def sigmoid(x):\n",
    "    y = 1 / (1 + np.exp(-x))\n",
    "    return y\n",
    "\n",
    "def softmax(x):\n",
    "    max_x = np.max(x)\n",
    "    exp_x = np.exp(x - max_x)\n",
    "    sum_exp_x = np.sum(exp_x)\n",
    "    y = exp_x / sum_exp_x\n",
    "    return y"
   ]
  },
  {
   "cell_type": "code",
   "execution_count": 19,
   "metadata": {},
   "outputs": [],
   "source": [
    "def get_data():\n",
    "    (x_train, y_train), (x_test, y_test) = load_mnist(flatten=True, normalize=True)\n",
    "    return x_test, y_test\n",
    "\n",
    "def init_network():\n",
    "    # 가중치 매개변수 가져오기\n",
    "    with open('assets/sample_weight.pkl', 'rb') as f:\n",
    "        network = pickle.load(f)\n",
    "    return network\n",
    "\n",
    "def predict(network, x):\n",
    "    W1, W2, W3 = network['W1'], network['W2'], network['W3']\n",
    "    b1, b2, b3 = network['b1'], network['b2'], network['b3']\n",
    "\n",
    "    a1 = np.dot(x, W1) + b1\n",
    "    z1 = sigmoid(a1)\n",
    "    \n",
    "    a2 = np.dot(z1, W2) + b2\n",
    "    z2 = sigmoid(a2)\n",
    "\n",
    "    a3 = np.dot(z2, W3) + b3\n",
    "    y = softmax(a3)\n",
    "\n",
    "    return y"
   ]
  },
  {
   "cell_type": "code",
   "execution_count": 21,
   "metadata": {},
   "outputs": [
    {
     "name": "stdout",
     "output_type": "stream",
     "text": [
      "X의 shape: (10000, 784)\n",
      "y의 shape: (10000,)\n",
      "network의 key를 출력합니다.\n",
      "dict_keys(['b2', 'W1', 'b1', 'W2', 'W3', 'b3'])\n"
     ]
    }
   ],
   "source": [
    "x, t = get_data()\n",
    "network = init_network()\n",
    "\n",
    "print(f'X의 shape: {x.shape}')\n",
    "print(f'y의 shape: {t.shape}')\n",
    "print('network의 key를 출력합니다.')\n",
    "print(network.keys())"
   ]
  },
  {
   "cell_type": "code",
   "execution_count": 22,
   "metadata": {},
   "outputs": [
    {
     "name": "stdout",
     "output_type": "stream",
     "text": [
      "정확도: 0.9352\n"
     ]
    }
   ],
   "source": [
    "accuracy_count = 0\n",
    "for i in range(len(x)):\n",
    "    y = predict(network, x[i])\n",
    "\n",
    "    # 출력 중 값이 가장 높은(확률이 가장 높은) 원소 인덱스 얻기\n",
    "    p = np.argmax(y)\n",
    "    \n",
    "    if p == t[i]:\n",
    "        accuracy_count += 1\n",
    "\n",
    "print(f'정확도: {str(float(accuracy_count / len(x)))}')"
   ]
  },
  {
   "cell_type": "markdown",
   "metadata": {},
   "source": [
    "## 3. 배치 처리"
   ]
  },
  {
   "cell_type": "code",
   "execution_count": 23,
   "metadata": {},
   "outputs": [
    {
     "name": "stdout",
     "output_type": "stream",
     "text": [
      "정확도: 0.9352\n"
     ]
    }
   ],
   "source": [
    "x, t = get_data()\n",
    "network = init_network()\n",
    "\n",
    "batch_size = 100\n",
    "accuracy_count = 0\n",
    "\n",
    "for i in range(0, len(x), batch_size):\n",
    "    x_batch = x[i: i+batch_size]\n",
    "    y_batch = predict(network, x_batch)\n",
    "    \n",
    "    p = np.argmax(y_batch, axis=1)\n",
    "    accuracy_count += np.sum(p == t[i:i+batch_size])\n",
    "\n",
    "print(f'정확도: {str(float(accuracy_count / len(x)))}')"
   ]
  }
 ],
 "metadata": {
  "kernelspec": {
   "display_name": "base",
   "language": "python",
   "name": "python3"
  },
  "language_info": {
   "codemirror_mode": {
    "name": "ipython",
    "version": 3
   },
   "file_extension": ".py",
   "mimetype": "text/x-python",
   "name": "python",
   "nbconvert_exporter": "python",
   "pygments_lexer": "ipython3",
   "version": "3.8.8"
  },
  "orig_nbformat": 4
 },
 "nbformat": 4,
 "nbformat_minor": 2
}
