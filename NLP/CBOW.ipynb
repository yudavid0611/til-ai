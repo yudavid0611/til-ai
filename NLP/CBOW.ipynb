{
 "cells": [
  {
   "cell_type": "markdown",
   "metadata": {},
   "source": [
    "# CBOW(Continuous bag-of-words)\n",
    "> 참고: 책 <<밑바닥부터 시작하는 딥러닝2>>, pp.132-141"
   ]
  },
  {
   "cell_type": "code",
   "execution_count": 6,
   "metadata": {},
   "outputs": [],
   "source": [
    "CORPUS = 'You say goodbye and I say hello.'"
   ]
  },
  {
   "cell_type": "markdown",
   "metadata": {},
   "source": [
    "말뭉치를 단어 ID로 변환한다."
   ]
  },
  {
   "cell_type": "code",
   "execution_count": 7,
   "metadata": {},
   "outputs": [],
   "source": [
    "import numpy as np\n",
    "\n",
    "# 변환 함수\n",
    "def preprocess(corpus):\n",
    "    # 소문자 변환\n",
    "    corpus = corpus.lower()\n",
    "    \n",
    "    # 마침표 앞에 공백 추가\n",
    "    corpus = corpus.replace('.', ' .')\n",
    "    \n",
    "    # 공백 기준으로 단어 나누기\n",
    "    words = corpus.split()\n",
    "    \n",
    "    word_to_id = {}\n",
    "    id_to_word = {}\n",
    "    now_id = 0\n",
    "    for w in words:\n",
    "        if w not in word_to_id:\n",
    "            word_to_id[w] = now_id\n",
    "            id_to_word[now_id] = w\n",
    "            now_id += 1\n",
    "\n",
    "    # 각 단어에 대한 id\n",
    "    ids = np.array([word_to_id[w] for w in words])\n",
    "\n",
    "    return ids, word_to_id, id_to_word"
   ]
  },
  {
   "cell_type": "code",
   "execution_count": 8,
   "metadata": {},
   "outputs": [],
   "source": [
    "ids, word_to_id, id_to_word = preprocess(CORPUS)"
   ]
  },
  {
   "cell_type": "code",
   "execution_count": 14,
   "metadata": {},
   "outputs": [
    {
     "data": {
      "text/plain": [
       "{0: 'you', 1: 'say', 2: 'goodbye', 3: 'and', 4: 'i', 5: 'hello', 6: '.'}"
      ]
     },
     "execution_count": 14,
     "metadata": {},
     "output_type": "execute_result"
    }
   ],
   "source": [
    "id_to_word"
   ]
  },
  {
   "cell_type": "markdown",
   "metadata": {},
   "source": [
    "맥락과 타겟을 만든다."
   ]
  },
  {
   "cell_type": "code",
   "execution_count": 22,
   "metadata": {},
   "outputs": [],
   "source": [
    "def create_target_contexts(ids, window_size=1):\n",
    "    '''\n",
    "    window_size: target의 좌우 몇 개의 단어를 고려할 것인가?\n",
    "    '''\n",
    "\n",
    "    # 타겟\n",
    "    target = ids[window_size:-window_size]\n",
    "\n",
    "    # 맥락\n",
    "    contexts = []\n",
    "    for i in range(window_size, len(ids) - window_size):\n",
    "        contexts.append([ids[i - window_size], ids[i + window_size]])\n",
    "    \n",
    "    return np.array(target), np.array(contexts)\n"
   ]
  },
  {
   "cell_type": "code",
   "execution_count": 23,
   "metadata": {},
   "outputs": [],
   "source": [
    "target, contexts = create_target_contexts(ids)"
   ]
  },
  {
   "cell_type": "code",
   "execution_count": 24,
   "metadata": {},
   "outputs": [
    {
     "name": "stdout",
     "output_type": "stream",
     "text": [
      "[1 2 3 4 1 5]\n",
      "[[0 2]\n",
      " [1 3]\n",
      " [2 4]\n",
      " [3 1]\n",
      " [4 5]\n",
      " [1 6]]\n"
     ]
    }
   ],
   "source": [
    "print(target)\n",
    "print(contexts)"
   ]
  }
 ],
 "metadata": {
  "kernelspec": {
   "display_name": "base",
   "language": "python",
   "name": "python3"
  },
  "language_info": {
   "codemirror_mode": {
    "name": "ipython",
    "version": 3
   },
   "file_extension": ".py",
   "mimetype": "text/x-python",
   "name": "python",
   "nbconvert_exporter": "python",
   "pygments_lexer": "ipython3",
   "version": "3.8.8"
  }
 },
 "nbformat": 4,
 "nbformat_minor": 2
}
